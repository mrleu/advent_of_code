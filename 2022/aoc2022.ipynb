{
 "cells": [
  {
   "cell_type": "markdown",
   "id": "10f7e40e-134c-4b8b-ab4a-c6287a99a71e",
   "metadata": {},
   "source": [
    "# Utils"
   ]
  },
  {
   "cell_type": "code",
   "execution_count": 22,
   "id": "8d990c1f-3efd-4141-a8ba-0379ae8e5058",
   "metadata": {},
   "outputs": [],
   "source": [
    "def read_file(file):\n",
    "    with open(file, 'r') as f:\n",
    "        return f.read()"
   ]
  },
  {
   "cell_type": "markdown",
   "id": "d6d6d136-d81c-4d6b-b2ba-f6edab8603bf",
   "metadata": {},
   "source": [
    "# Day 1"
   ]
  },
  {
   "cell_type": "code",
   "execution_count": 11,
   "id": "e278f614-73c6-40a4-9209-dd8aabaf3195",
   "metadata": {},
   "outputs": [],
   "source": [
    "i = read_file('day1.txt')"
   ]
  },
  {
   "cell_type": "code",
   "execution_count": 12,
   "id": "d8eb9582-d5c8-47c3-8267-d8e0ae3ea32f",
   "metadata": {},
   "outputs": [],
   "source": [
    "import heapq\n",
    "\n",
    "def max_calories(i):\n",
    "    return max([sum([int(y) for y in x.split('\\n')]) for x in i.split('\\n\\n')])\n",
    "    \n",
    "def sum_top3(i):\n",
    "    return sum(heapq.nlargest(3, [sum([int(y) for y in x.split('\\n')]) for x in i.split('\\n\\n')]))"
   ]
  },
  {
   "cell_type": "code",
   "execution_count": 13,
   "id": "9a62c224-6e94-47a3-abf9-d5d4218a4be6",
   "metadata": {},
   "outputs": [
    {
     "data": {
      "text/plain": [
       "74198"
      ]
     },
     "execution_count": 13,
     "metadata": {},
     "output_type": "execute_result"
    }
   ],
   "source": [
    "max_calories(i)"
   ]
  },
  {
   "cell_type": "code",
   "execution_count": 14,
   "id": "6c61c203-569f-4664-995e-36f3a5289486",
   "metadata": {},
   "outputs": [
    {
     "data": {
      "text/plain": [
       "209914"
      ]
     },
     "execution_count": 14,
     "metadata": {},
     "output_type": "execute_result"
    }
   ],
   "source": [
    "sum_top3(i)"
   ]
  },
  {
   "cell_type": "markdown",
   "id": "7e58f01b-162b-4653-bb54-e2eb18f336d9",
   "metadata": {},
   "source": [
    "# day 2"
   ]
  },
  {
   "cell_type": "code",
   "execution_count": 23,
   "id": "0a0476af-33cb-4a56-9c6a-a249051dd342",
   "metadata": {},
   "outputs": [],
   "source": [
    "i = read_file('day2.txt')"
   ]
  },
  {
   "cell_type": "code",
   "execution_count": 27,
   "id": "9634ec0a-2d4e-4277-8da0-82b029871859",
   "metadata": {},
   "outputs": [
    {
     "name": "stdout",
     "output_type": "stream",
     "text": [
      "13682\n"
     ]
    }
   ],
   "source": [
    "rounds = [x.split(' ') for x in i.split('\\n')]\n",
    "user_points = {'X': 1,\n",
    "               'Y': 2,\n",
    "               'Z': 3\n",
    "              }\n",
    "\n",
    "game_play = {\n",
    "    'A': {'X': 3, 'Y': 6, 'Z': 0},\n",
    "    'B': {'X': 0, 'Y': 3, 'Z': 6},\n",
    "    'C': {'X': 6, 'Y': 0, 'Z': 3},\n",
    "}\n",
    "score = 0\n",
    "for [opponent, you] in rounds:\n",
    "    choice_points = user_points[you]\n",
    "    strategy_points = game_play[opponent][you]\n",
    "    total_points = choice_points + strategy_points\n",
    "    score += total_points\n",
    "print(score)"
   ]
  },
  {
   "cell_type": "code",
   "execution_count": 29,
   "id": "c2491ba7-99e3-4a70-8952-3b11ff196030",
   "metadata": {},
   "outputs": [],
   "source": [
    "user_points = {'rock': 1,\n",
    "               'paper': 2,\n",
    "               'scissor': 3\n",
    "              }\n",
    "\n",
    "game_play2 = {\n",
    "    'A': {'X': 'scissor', 'Y': 'rock', 'Z': 'paper'},\n",
    "    'B': {'X': 'rock', 'Y': 'paper', 'Z': 'scissor'},\n",
    "    'C': {'X': 'paper', 'Y': 'scissor', 'Z': 'rock'}\n",
    "}"
   ]
  },
  {
   "cell_type": "code",
   "execution_count": 30,
   "id": "4d10111e-49e3-4b84-bb04-b99d2240c408",
   "metadata": {},
   "outputs": [
    {
     "name": "stdout",
     "output_type": "stream",
     "text": [
      "12881\n"
     ]
    }
   ],
   "source": [
    "score = 0\n",
    "for [opponent, strategy] in rounds:\n",
    "    if strategy == 'X':\n",
    "        result_score = 0\n",
    "    elif strategy == 'Y':\n",
    "        result_score = 3\n",
    "    else:\n",
    "        result_score = 6\n",
    "    user_point = user_points[game_play2[opponent][strategy]]\n",
    "    total =user_point + result_score\n",
    "    score += total\n",
    "print(score)"
   ]
  }
 ],
 "metadata": {
  "kernelspec": {
   "display_name": "dgl",
   "language": "python",
   "name": "dgl"
  },
  "language_info": {
   "codemirror_mode": {
    "name": "ipython",
    "version": 3
   },
   "file_extension": ".py",
   "mimetype": "text/x-python",
   "name": "python",
   "nbconvert_exporter": "python",
   "pygments_lexer": "ipython3",
   "version": "3.9.1"
  }
 },
 "nbformat": 4,
 "nbformat_minor": 5
}
